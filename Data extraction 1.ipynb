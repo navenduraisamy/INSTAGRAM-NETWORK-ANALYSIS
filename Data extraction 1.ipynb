{
 "cells": [
  {
   "cell_type": "markdown",
   "metadata": {},
   "source": [
    "# Finding Best friends of the profile"
   ]
  },
  {
   "cell_type": "code",
   "execution_count": 8,
   "metadata": {},
   "outputs": [],
   "source": [
    "import pandas as pd"
   ]
  },
  {
   "cell_type": "code",
   "execution_count": 9,
   "metadata": {},
   "outputs": [
    {
     "data": {
      "text/plain": [
       "3       https://www.instagram.com/pavithra_kumar_t\n",
       "4             https://www.instagram.com/rohith_ck_\n",
       "5     https://www.instagram.com/cinema_cine_update\n",
       "10    https://www.instagram.com/a_magical_universe\n",
       "11      https://www.instagram.com/_srv_naiyandi_02\n",
       "Name: profileUrl, dtype: object"
      ]
     },
     "execution_count": 9,
     "metadata": {},
     "output_type": "execute_result"
    }
   ],
   "source": [
    "#read followers and omit private profiles\n",
    "df1 = pd.read_csv(\"users/followers(ap).csv\")\n",
    "df1_public = df1[df1['isPrivate'] == False]\n",
    "df1_public['profileUrl'].head()"
   ]
  },
  {
   "cell_type": "code",
   "execution_count": 10,
   "metadata": {},
   "outputs": [
    {
     "name": "stdout",
     "output_type": "stream",
     "text": [
      "110\n",
      "110\n"
     ]
    }
   ],
   "source": [
    "#converting the followers to a set\n",
    "print(len(df1_public['profileUrl']))\n",
    "followers = set(df1_public['profileUrl'])\n",
    "print(len(followers))"
   ]
  },
  {
   "cell_type": "code",
   "execution_count": 11,
   "metadata": {},
   "outputs": [
    {
     "data": {
      "text/plain": [
       "2       https://www.instagram.com/underdogcinemas\n",
       "5      https://www.instagram.com/pavithra_kumar_t\n",
       "6            https://www.instagram.com/rohith_ck_\n",
       "7     https://www.instagram.com/cinema__paithiyom\n",
       "10     https://www.instagram.com/sciencenerdsofig\n",
       "Name: profileUrl, dtype: object"
      ]
     },
     "execution_count": 11,
     "metadata": {},
     "output_type": "execute_result"
    }
   ],
   "source": [
    "#read following and omit private profiles\n",
    "df2 = pd.read_csv('users/following(ap).csv')\n",
    "df2_public = df2[df2['isPrivate'] == False]\n",
    "df2_public['profileUrl'].head()"
   ]
  },
  {
   "cell_type": "code",
   "execution_count": 12,
   "metadata": {
    "scrolled": true
   },
   "outputs": [
    {
     "name": "stdout",
     "output_type": "stream",
     "text": [
      "228\n",
      "228\n"
     ]
    }
   ],
   "source": [
    "#converting following to set\n",
    "print(len(df2_public['profileUrl']))\n",
    "following = set(df2_public['profileUrl'])\n",
    "print(len(following))"
   ]
  },
  {
   "cell_type": "code",
   "execution_count": 13,
   "metadata": {},
   "outputs": [
    {
     "name": "stdout",
     "output_type": "stream",
     "text": [
      "72\n",
      "(72, 1)\n"
     ]
    }
   ],
   "source": [
    "#finding the best friends -- exist both in followers and following\n",
    "best_friends = following & followers\n",
    "print(len(best_friends))\n",
    "df_bf = pd.DataFrame(best_friends,columns = ['profileUrl'])\n",
    "print(df_bf.shape)"
   ]
  },
  {
   "cell_type": "code",
   "execution_count": 14,
   "metadata": {},
   "outputs": [
    {
     "name": "stdout",
     "output_type": "stream",
     "text": [
      "                                       profileUrl\n",
      "0  https://www.instagram.com/sleeper_cellz_of_psg\n",
      "1   https://www.instagram.com/__the_lonely_king__\n",
      "2         https://www.instagram.com/__a.l.f.r.e.d\n",
      "3         https://www.instagram.com/_.deen_rifa._\n",
      "4            https://www.instagram.com/ashwin7818\n"
     ]
    }
   ],
   "source": [
    "#write into a csv file\n",
    "print(df_bf.head())\n",
    "df_bf.to_csv('users/best_friends.csv',index = False)"
   ]
  },
  {
   "cell_type": "code",
   "execution_count": null,
   "metadata": {},
   "outputs": [],
   "source": []
  },
  {
   "cell_type": "code",
   "execution_count": null,
   "metadata": {},
   "outputs": [],
   "source": []
  }
 ],
 "metadata": {
  "kernelspec": {
   "display_name": "Python 3",
   "language": "python",
   "name": "python3"
  },
  "language_info": {
   "codemirror_mode": {
    "name": "ipython",
    "version": 3
   },
   "file_extension": ".py",
   "mimetype": "text/x-python",
   "name": "python",
   "nbconvert_exporter": "python",
   "pygments_lexer": "ipython3",
   "version": "3.8.5"
  }
 },
 "nbformat": 4,
 "nbformat_minor": 4
}
