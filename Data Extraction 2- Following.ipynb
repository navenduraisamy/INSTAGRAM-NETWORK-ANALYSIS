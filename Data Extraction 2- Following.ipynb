{
 "cells": [
  {
   "cell_type": "code",
   "execution_count": 1,
   "metadata": {},
   "outputs": [],
   "source": [
    "import pandas as pd\n",
    "from tqdm import tqdm"
   ]
  },
  {
   "cell_type": "code",
   "execution_count": 2,
   "metadata": {},
   "outputs": [
    {
     "name": "stdout",
     "output_type": "stream",
     "text": [
      "(72, 1)\n"
     ]
    },
    {
     "data": {
      "text/html": [
       "<div>\n",
       "<style scoped>\n",
       "    .dataframe tbody tr th:only-of-type {\n",
       "        vertical-align: middle;\n",
       "    }\n",
       "\n",
       "    .dataframe tbody tr th {\n",
       "        vertical-align: top;\n",
       "    }\n",
       "\n",
       "    .dataframe thead th {\n",
       "        text-align: right;\n",
       "    }\n",
       "</style>\n",
       "<table border=\"1\" class=\"dataframe\">\n",
       "  <thead>\n",
       "    <tr style=\"text-align: right;\">\n",
       "      <th></th>\n",
       "      <th>profileUrl</th>\n",
       "    </tr>\n",
       "  </thead>\n",
       "  <tbody>\n",
       "    <tr>\n",
       "      <th>0</th>\n",
       "      <td>https://www.instagram.com/sleeper_cellz_of_psg</td>\n",
       "    </tr>\n",
       "    <tr>\n",
       "      <th>1</th>\n",
       "      <td>https://www.instagram.com/__the_lonely_king__</td>\n",
       "    </tr>\n",
       "    <tr>\n",
       "      <th>2</th>\n",
       "      <td>https://www.instagram.com/__a.l.f.r.e.d</td>\n",
       "    </tr>\n",
       "    <tr>\n",
       "      <th>3</th>\n",
       "      <td>https://www.instagram.com/_.deen_rifa._</td>\n",
       "    </tr>\n",
       "    <tr>\n",
       "      <th>4</th>\n",
       "      <td>https://www.instagram.com/ashwin7818</td>\n",
       "    </tr>\n",
       "  </tbody>\n",
       "</table>\n",
       "</div>"
      ],
      "text/plain": [
       "                                       profileUrl\n",
       "0  https://www.instagram.com/sleeper_cellz_of_psg\n",
       "1   https://www.instagram.com/__the_lonely_king__\n",
       "2         https://www.instagram.com/__a.l.f.r.e.d\n",
       "3         https://www.instagram.com/_.deen_rifa._\n",
       "4            https://www.instagram.com/ashwin7818"
      ]
     },
     "execution_count": 2,
     "metadata": {},
     "output_type": "execute_result"
    }
   ],
   "source": [
    "df_bf = pd.read_csv('users/best_friends.csv')\n",
    "print(df_bf.shape)\n",
    "df_bf.head()"
   ]
  },
  {
   "cell_type": "code",
   "execution_count": 3,
   "metadata": {},
   "outputs": [
    {
     "data": {
      "text/plain": [
       "profileUrl    0\n",
       "dtype: int64"
      ]
     },
     "execution_count": 3,
     "metadata": {},
     "output_type": "execute_result"
    }
   ],
   "source": [
    "df_bf.isnull().sum()"
   ]
  },
  {
   "cell_type": "code",
   "execution_count": 4,
   "metadata": {},
   "outputs": [
    {
     "data": {
      "text/plain": [
       "72"
      ]
     },
     "execution_count": 4,
     "metadata": {},
     "output_type": "execute_result"
    }
   ],
   "source": [
    "bestfriends = []\n",
    "for i in df_bf['profileUrl']:\n",
    "    bestfriends.append(i)\n",
    "len(bestfriends)"
   ]
  },
  {
   "cell_type": "code",
   "execution_count": 6,
   "metadata": {},
   "outputs": [
    {
     "data": {
      "text/plain": [
       "72"
      ]
     },
     "execution_count": 6,
     "metadata": {},
     "output_type": "execute_result"
    }
   ],
   "source": [
    "filenames = []\n",
    "for i in df_bf['profileUrl']:\n",
    "    filename = i[26:]+\"(following).csv\"\n",
    "    filenames.append(filename)\n",
    "len(filenames)   "
   ]
  },
  {
   "cell_type": "markdown",
   "metadata": {},
   "source": [
    "# CREATING FOLLOWING-MERGED DATASET "
   ]
  },
  {
   "cell_type": "code",
   "execution_count": 8,
   "metadata": {},
   "outputs": [],
   "source": [
    "df_all = pd.read_csv('following/'+filenames[0])\n",
    "shape = []\n",
    "shape.append(df_all.shape[0])\n",
    "\n",
    "\n",
    "for i in range(1,len(filenames)):\n",
    "    df_temp = pd.read_csv('following/'+filenames[i])\n",
    "    shape.append(df_temp.shape[0])\n",
    "    df_all = df_all.append(df_temp,ignore_index=True)"
   ]
  },
  {
   "cell_type": "code",
   "execution_count": 78,
   "metadata": {},
   "outputs": [
    {
     "name": "stdout",
     "output_type": "stream",
     "text": [
      "53604\n",
      "(53604, 11)\n"
     ]
    }
   ],
   "source": [
    "print(sum(shape))\n",
    "print(df_all.shape)"
   ]
  },
  {
   "cell_type": "code",
   "execution_count": 9,
   "metadata": {},
   "outputs": [
    {
     "data": {
      "text/html": [
       "<div>\n",
       "<style scoped>\n",
       "    .dataframe tbody tr th:only-of-type {\n",
       "        vertical-align: middle;\n",
       "    }\n",
       "\n",
       "    .dataframe tbody tr th {\n",
       "        vertical-align: top;\n",
       "    }\n",
       "\n",
       "    .dataframe thead th {\n",
       "        text-align: right;\n",
       "    }\n",
       "</style>\n",
       "<table border=\"1\" class=\"dataframe\">\n",
       "  <thead>\n",
       "    <tr style=\"text-align: right;\">\n",
       "      <th></th>\n",
       "      <th>profileUrl</th>\n",
       "      <th>username</th>\n",
       "      <th>fullName</th>\n",
       "      <th>imgUrl</th>\n",
       "      <th>id</th>\n",
       "      <th>isPrivate</th>\n",
       "      <th>isVerified</th>\n",
       "      <th>followedByViewer</th>\n",
       "      <th>query</th>\n",
       "      <th>timestamp</th>\n",
       "      <th>Unnamed: 10</th>\n",
       "    </tr>\n",
       "  </thead>\n",
       "  <tbody>\n",
       "    <tr>\n",
       "      <th>0</th>\n",
       "      <td>https://www.instagram.com/sangavi_muthusamy</td>\n",
       "      <td>sangavi_muthusamy</td>\n",
       "      <td>Sangavi</td>\n",
       "      <td>https://scontent-lga3-2.cdninstagram.com/v/t51...</td>\n",
       "      <td>2989009484</td>\n",
       "      <td>false</td>\n",
       "      <td>False</td>\n",
       "      <td>False</td>\n",
       "      <td>https://www.instagram.com/sleeper_cellz_of_psg</td>\n",
       "      <td>2021-03-29T11:26:28.916Z</td>\n",
       "      <td>NaN</td>\n",
       "    </tr>\n",
       "    <tr>\n",
       "      <th>1</th>\n",
       "      <td>https://www.instagram.com/shreeja_nandiath</td>\n",
       "      <td>shreeja_nandiath</td>\n",
       "      <td>Shreeja KrishnaKumar</td>\n",
       "      <td>https://scontent-lga3-2.cdninstagram.com/v/t51...</td>\n",
       "      <td>4519265393</td>\n",
       "      <td>false</td>\n",
       "      <td>False</td>\n",
       "      <td>False</td>\n",
       "      <td>https://www.instagram.com/sleeper_cellz_of_psg</td>\n",
       "      <td>2021-03-29T11:26:28.916Z</td>\n",
       "      <td>NaN</td>\n",
       "    </tr>\n",
       "    <tr>\n",
       "      <th>2</th>\n",
       "      <td>https://www.instagram.com/pari_poorani</td>\n",
       "      <td>pari_poorani</td>\n",
       "      <td>Pari Poorani 🌸</td>\n",
       "      <td>https://instagram.ftsr1-2.fna.fbcdn.net/v/t51....</td>\n",
       "      <td>1494825864</td>\n",
       "      <td>true</td>\n",
       "      <td>False</td>\n",
       "      <td>False</td>\n",
       "      <td>https://www.instagram.com/sleeper_cellz_of_psg</td>\n",
       "      <td>2021-03-29T11:26:28.916Z</td>\n",
       "      <td>NaN</td>\n",
       "    </tr>\n",
       "    <tr>\n",
       "      <th>3</th>\n",
       "      <td>https://www.instagram.com/___sam__walker___</td>\n",
       "      <td>___sam__walker___</td>\n",
       "      <td>சாமுவேல்</td>\n",
       "      <td>https://scontent-lga3-2.cdninstagram.com/v/t51...</td>\n",
       "      <td>3755158231</td>\n",
       "      <td>false</td>\n",
       "      <td>False</td>\n",
       "      <td>False</td>\n",
       "      <td>https://www.instagram.com/sleeper_cellz_of_psg</td>\n",
       "      <td>2021-03-29T11:26:28.916Z</td>\n",
       "      <td>NaN</td>\n",
       "    </tr>\n",
       "    <tr>\n",
       "      <th>4</th>\n",
       "      <td>https://www.instagram.com/_bhuvi26_</td>\n",
       "      <td>_bhuvi26_</td>\n",
       "      <td>Bhuvi👑✨</td>\n",
       "      <td>https://scontent-lga3-2.cdninstagram.com/v/t51...</td>\n",
       "      <td>5471366869</td>\n",
       "      <td>true</td>\n",
       "      <td>False</td>\n",
       "      <td>False</td>\n",
       "      <td>https://www.instagram.com/sleeper_cellz_of_psg</td>\n",
       "      <td>2021-03-29T11:26:28.916Z</td>\n",
       "      <td>NaN</td>\n",
       "    </tr>\n",
       "  </tbody>\n",
       "</table>\n",
       "</div>"
      ],
      "text/plain": [
       "                                    profileUrl           username  \\\n",
       "0  https://www.instagram.com/sangavi_muthusamy  sangavi_muthusamy   \n",
       "1   https://www.instagram.com/shreeja_nandiath   shreeja_nandiath   \n",
       "2       https://www.instagram.com/pari_poorani       pari_poorani   \n",
       "3  https://www.instagram.com/___sam__walker___  ___sam__walker___   \n",
       "4          https://www.instagram.com/_bhuvi26_          _bhuvi26_   \n",
       "\n",
       "               fullName                                             imgUrl  \\\n",
       "0               Sangavi  https://scontent-lga3-2.cdninstagram.com/v/t51...   \n",
       "1  Shreeja KrishnaKumar  https://scontent-lga3-2.cdninstagram.com/v/t51...   \n",
       "2        Pari Poorani 🌸  https://instagram.ftsr1-2.fna.fbcdn.net/v/t51....   \n",
       "3              சாமுவேல்  https://scontent-lga3-2.cdninstagram.com/v/t51...   \n",
       "4               Bhuvi👑✨  https://scontent-lga3-2.cdninstagram.com/v/t51...   \n",
       "\n",
       "           id isPrivate isVerified followedByViewer  \\\n",
       "0  2989009484     false      False            False   \n",
       "1  4519265393     false      False            False   \n",
       "2  1494825864      true      False            False   \n",
       "3  3755158231     false      False            False   \n",
       "4  5471366869      true      False            False   \n",
       "\n",
       "                                            query                 timestamp  \\\n",
       "0  https://www.instagram.com/sleeper_cellz_of_psg  2021-03-29T11:26:28.916Z   \n",
       "1  https://www.instagram.com/sleeper_cellz_of_psg  2021-03-29T11:26:28.916Z   \n",
       "2  https://www.instagram.com/sleeper_cellz_of_psg  2021-03-29T11:26:28.916Z   \n",
       "3  https://www.instagram.com/sleeper_cellz_of_psg  2021-03-29T11:26:28.916Z   \n",
       "4  https://www.instagram.com/sleeper_cellz_of_psg  2021-03-29T11:26:28.916Z   \n",
       "\n",
       "  Unnamed: 10  \n",
       "0         NaN  \n",
       "1         NaN  \n",
       "2         NaN  \n",
       "3         NaN  \n",
       "4         NaN  "
      ]
     },
     "execution_count": 9,
     "metadata": {},
     "output_type": "execute_result"
    }
   ],
   "source": [
    "df_all.head()"
   ]
  },
  {
   "cell_type": "code",
   "execution_count": 10,
   "metadata": {},
   "outputs": [
    {
     "name": "stdout",
     "output_type": "stream",
     "text": [
      "(53604, 2)\n"
     ]
    },
    {
     "data": {
      "text/html": [
       "<div>\n",
       "<style scoped>\n",
       "    .dataframe tbody tr th:only-of-type {\n",
       "        vertical-align: middle;\n",
       "    }\n",
       "\n",
       "    .dataframe tbody tr th {\n",
       "        vertical-align: top;\n",
       "    }\n",
       "\n",
       "    .dataframe thead th {\n",
       "        text-align: right;\n",
       "    }\n",
       "</style>\n",
       "<table border=\"1\" class=\"dataframe\">\n",
       "  <thead>\n",
       "    <tr style=\"text-align: right;\">\n",
       "      <th></th>\n",
       "      <th>user</th>\n",
       "      <th>profileUrl</th>\n",
       "    </tr>\n",
       "  </thead>\n",
       "  <tbody>\n",
       "    <tr>\n",
       "      <th>0</th>\n",
       "      <td>https://www.instagram.com/sleeper_cellz_of_psg</td>\n",
       "      <td>https://www.instagram.com/sangavi_muthusamy</td>\n",
       "    </tr>\n",
       "    <tr>\n",
       "      <th>1</th>\n",
       "      <td>https://www.instagram.com/sleeper_cellz_of_psg</td>\n",
       "      <td>https://www.instagram.com/shreeja_nandiath</td>\n",
       "    </tr>\n",
       "    <tr>\n",
       "      <th>2</th>\n",
       "      <td>https://www.instagram.com/sleeper_cellz_of_psg</td>\n",
       "      <td>https://www.instagram.com/pari_poorani</td>\n",
       "    </tr>\n",
       "    <tr>\n",
       "      <th>3</th>\n",
       "      <td>https://www.instagram.com/sleeper_cellz_of_psg</td>\n",
       "      <td>https://www.instagram.com/___sam__walker___</td>\n",
       "    </tr>\n",
       "    <tr>\n",
       "      <th>4</th>\n",
       "      <td>https://www.instagram.com/sleeper_cellz_of_psg</td>\n",
       "      <td>https://www.instagram.com/_bhuvi26_</td>\n",
       "    </tr>\n",
       "  </tbody>\n",
       "</table>\n",
       "</div>"
      ],
      "text/plain": [
       "                                             user  \\\n",
       "0  https://www.instagram.com/sleeper_cellz_of_psg   \n",
       "1  https://www.instagram.com/sleeper_cellz_of_psg   \n",
       "2  https://www.instagram.com/sleeper_cellz_of_psg   \n",
       "3  https://www.instagram.com/sleeper_cellz_of_psg   \n",
       "4  https://www.instagram.com/sleeper_cellz_of_psg   \n",
       "\n",
       "                                    profileUrl  \n",
       "0  https://www.instagram.com/sangavi_muthusamy  \n",
       "1   https://www.instagram.com/shreeja_nandiath  \n",
       "2       https://www.instagram.com/pari_poorani  \n",
       "3  https://www.instagram.com/___sam__walker___  \n",
       "4          https://www.instagram.com/_bhuvi26_  "
      ]
     },
     "execution_count": 10,
     "metadata": {},
     "output_type": "execute_result"
    }
   ],
   "source": [
    "df = df_all[['query','profileUrl']]\n",
    "df.columns = ['user','profileUrl']\n",
    "print(df.shape)\n",
    "df.head()"
   ]
  },
  {
   "cell_type": "code",
   "execution_count": 11,
   "metadata": {},
   "outputs": [
    {
     "data": {
      "text/html": [
       "<div>\n",
       "<style scoped>\n",
       "    .dataframe tbody tr th:only-of-type {\n",
       "        vertical-align: middle;\n",
       "    }\n",
       "\n",
       "    .dataframe tbody tr th {\n",
       "        vertical-align: top;\n",
       "    }\n",
       "\n",
       "    .dataframe thead th {\n",
       "        text-align: right;\n",
       "    }\n",
       "</style>\n",
       "<table border=\"1\" class=\"dataframe\">\n",
       "  <thead>\n",
       "    <tr style=\"text-align: right;\">\n",
       "      <th></th>\n",
       "      <th>user</th>\n",
       "      <th>profileUrl</th>\n",
       "    </tr>\n",
       "  </thead>\n",
       "  <tbody>\n",
       "    <tr>\n",
       "      <th>7679</th>\n",
       "      <td>NaN</td>\n",
       "      <td>https://www.instagram.com/sudharsan_sudhee</td>\n",
       "    </tr>\n",
       "    <tr>\n",
       "      <th>7680</th>\n",
       "      <td>NaN</td>\n",
       "      <td>𝕾𝖚𝖉𝖍𝖆𝖗𝖘𝖆𝖓ᚔ</td>\n",
       "    </tr>\n",
       "    <tr>\n",
       "      <th>7681</th>\n",
       "      <td>NaN</td>\n",
       "      <td>⩢</td>\n",
       "    </tr>\n",
       "  </tbody>\n",
       "</table>\n",
       "</div>"
      ],
      "text/plain": [
       "     user                                  profileUrl\n",
       "7679  NaN  https://www.instagram.com/sudharsan_sudhee\n",
       "7680  NaN                                  𝕾𝖚𝖉𝖍𝖆𝖗𝖘𝖆𝖓ᚔ\n",
       "7681  NaN                                           ⩢"
      ]
     },
     "execution_count": 11,
     "metadata": {},
     "output_type": "execute_result"
    }
   ],
   "source": [
    "df[df['user'].isnull() == True]"
   ]
  },
  {
   "cell_type": "code",
   "execution_count": 19,
   "metadata": {
    "scrolled": true
   },
   "outputs": [
    {
     "data": {
      "text/plain": [
       "(53601, 2)"
      ]
     },
     "execution_count": 19,
     "metadata": {},
     "output_type": "execute_result"
    }
   ],
   "source": [
    "df.dropna(inplace = True)\n",
    "df = df.reset_index(drop=True)\n",
    "df.shape"
   ]
  },
  {
   "cell_type": "code",
   "execution_count": 24,
   "metadata": {},
   "outputs": [
    {
     "data": {
      "text/html": [
       "<div>\n",
       "<style scoped>\n",
       "    .dataframe tbody tr th:only-of-type {\n",
       "        vertical-align: middle;\n",
       "    }\n",
       "\n",
       "    .dataframe tbody tr th {\n",
       "        vertical-align: top;\n",
       "    }\n",
       "\n",
       "    .dataframe thead th {\n",
       "        text-align: right;\n",
       "    }\n",
       "</style>\n",
       "<table border=\"1\" class=\"dataframe\">\n",
       "  <thead>\n",
       "    <tr style=\"text-align: right;\">\n",
       "      <th></th>\n",
       "      <th>user</th>\n",
       "      <th>profileUrl</th>\n",
       "    </tr>\n",
       "  </thead>\n",
       "  <tbody>\n",
       "    <tr>\n",
       "      <th>4286</th>\n",
       "      <td>false</td>\n",
       "      <td>https://www.instagram.com/yaswanth_rock</td>\n",
       "    </tr>\n",
       "    <tr>\n",
       "      <th>10878</th>\n",
       "      <td>false</td>\n",
       "      <td>https://www.instagram.com/semma_status</td>\n",
       "    </tr>\n",
       "    <tr>\n",
       "      <th>23380</th>\n",
       "      <td>false</td>\n",
       "      <td>https://www.instagram.com/baladjyy</td>\n",
       "    </tr>\n",
       "    <tr>\n",
       "      <th>35655</th>\n",
       "      <td>false</td>\n",
       "      <td>https://www.instagram.com/prasanna_gothandapani</td>\n",
       "    </tr>\n",
       "    <tr>\n",
       "      <th>47953</th>\n",
       "      <td>false</td>\n",
       "      <td>https://www.instagram.com/true_love_with_you_</td>\n",
       "    </tr>\n",
       "    <tr>\n",
       "      <th>48070</th>\n",
       "      <td>false</td>\n",
       "      <td>https://www.instagram.com/semma_status</td>\n",
       "    </tr>\n",
       "  </tbody>\n",
       "</table>\n",
       "</div>"
      ],
      "text/plain": [
       "        user                                       profileUrl\n",
       "4286   false          https://www.instagram.com/yaswanth_rock\n",
       "10878  false           https://www.instagram.com/semma_status\n",
       "23380  false               https://www.instagram.com/baladjyy\n",
       "35655  false  https://www.instagram.com/prasanna_gothandapani\n",
       "47953  false    https://www.instagram.com/true_love_with_you_\n",
       "48070  false           https://www.instagram.com/semma_status"
      ]
     },
     "execution_count": 24,
     "metadata": {},
     "output_type": "execute_result"
    }
   ],
   "source": [
    "df[df['user']=='false']"
   ]
  },
  {
   "cell_type": "code",
   "execution_count": 29,
   "metadata": {},
   "outputs": [
    {
     "data": {
      "text/plain": [
       "(53595, 2)"
      ]
     },
     "execution_count": 29,
     "metadata": {},
     "output_type": "execute_result"
    }
   ],
   "source": [
    "df = df[df['user']!='false']\n",
    "df = df.reset_index(drop=True)\n",
    "df.shape"
   ]
  },
  {
   "cell_type": "code",
   "execution_count": 62,
   "metadata": {},
   "outputs": [
    {
     "name": "stdout",
     "output_type": "stream",
     "text": [
      "42281\n"
     ]
    }
   ],
   "source": [
    "#number of nodes\n",
    "print(len(set(df['profileUrl'])|set(df['user'])))"
   ]
  },
  {
   "cell_type": "code",
   "execution_count": 26,
   "metadata": {},
   "outputs": [],
   "source": [
    "df.to_csv('datasets/followingmerged.csv',header = False, index = False)"
   ]
  },
  {
   "cell_type": "code",
   "execution_count": 31,
   "metadata": {},
   "outputs": [
    {
     "name": "stderr",
     "output_type": "stream",
     "text": [
      "100%|██████████████████████████████████████████████████████████████████████████| 53595/53595 [00:41<00:00, 1306.80it/s]\n"
     ]
    }
   ],
   "source": [
    "edges = []\n",
    "for i in tqdm(range(len(df['profileUrl']))):\n",
    "    temp = [df['profileUrl'][i],df['user'][i]]\n",
    "    #print(temp)\n",
    "    if temp not in edges:\n",
    "        edges.append(temp)"
   ]
  },
  {
   "cell_type": "code",
   "execution_count": 32,
   "metadata": {},
   "outputs": [
    {
     "name": "stdout",
     "output_type": "stream",
     "text": [
      "53595\n"
     ]
    }
   ],
   "source": [
    "print(len(edges))"
   ]
  },
  {
   "cell_type": "code",
   "execution_count": 33,
   "metadata": {
    "scrolled": true
   },
   "outputs": [
    {
     "data": {
      "text/html": [
       "<div>\n",
       "<style scoped>\n",
       "    .dataframe tbody tr th:only-of-type {\n",
       "        vertical-align: middle;\n",
       "    }\n",
       "\n",
       "    .dataframe tbody tr th {\n",
       "        vertical-align: top;\n",
       "    }\n",
       "\n",
       "    .dataframe thead th {\n",
       "        text-align: right;\n",
       "    }\n",
       "</style>\n",
       "<table border=\"1\" class=\"dataframe\">\n",
       "  <thead>\n",
       "    <tr style=\"text-align: right;\">\n",
       "      <th></th>\n",
       "      <th>user</th>\n",
       "      <th>profileUrl</th>\n",
       "    </tr>\n",
       "  </thead>\n",
       "  <tbody>\n",
       "    <tr>\n",
       "      <th>1982</th>\n",
       "      <td>https://www.instagram.com/sleeper_cellz_of_psg</td>\n",
       "      <td>https://www.instagram.com/aruntrendzzz</td>\n",
       "    </tr>\n",
       "    <tr>\n",
       "      <th>5178</th>\n",
       "      <td>https://www.instagram.com/__the_lonely_king__</td>\n",
       "      <td>https://www.instagram.com/aruntrendzzz</td>\n",
       "    </tr>\n",
       "    <tr>\n",
       "      <th>5947</th>\n",
       "      <td>https://www.instagram.com/__a.l.f.r.e.d</td>\n",
       "      <td>https://www.instagram.com/aruntrendzzz</td>\n",
       "    </tr>\n",
       "    <tr>\n",
       "      <th>6559</th>\n",
       "      <td>https://www.instagram.com/_.deen_rifa._</td>\n",
       "      <td>https://www.instagram.com/aruntrendzzz</td>\n",
       "    </tr>\n",
       "    <tr>\n",
       "      <th>7433</th>\n",
       "      <td>https://www.instagram.com/ashwin7818</td>\n",
       "      <td>https://www.instagram.com/aruntrendzzz</td>\n",
       "    </tr>\n",
       "    <tr>\n",
       "      <th>...</th>\n",
       "      <td>...</td>\n",
       "      <td>...</td>\n",
       "    </tr>\n",
       "    <tr>\n",
       "      <th>51858</th>\n",
       "      <td>https://www.instagram.com/pavithra_kumar_t</td>\n",
       "      <td>https://www.instagram.com/aruntrendzzz</td>\n",
       "    </tr>\n",
       "    <tr>\n",
       "      <th>52309</th>\n",
       "      <td>https://www.instagram.com/kavii.07</td>\n",
       "      <td>https://www.instagram.com/aruntrendzzz</td>\n",
       "    </tr>\n",
       "    <tr>\n",
       "      <th>52729</th>\n",
       "      <td>https://www.instagram.com/parker_prasath__</td>\n",
       "      <td>https://www.instagram.com/aruntrendzzz</td>\n",
       "    </tr>\n",
       "    <tr>\n",
       "      <th>53068</th>\n",
       "      <td>https://www.instagram.com/ak__photography0007</td>\n",
       "      <td>https://www.instagram.com/aruntrendzzz</td>\n",
       "    </tr>\n",
       "    <tr>\n",
       "      <th>53593</th>\n",
       "      <td>https://www.instagram.com/_the_eminent_artist_</td>\n",
       "      <td>https://www.instagram.com/aruntrendzzz</td>\n",
       "    </tr>\n",
       "  </tbody>\n",
       "</table>\n",
       "<p>72 rows × 2 columns</p>\n",
       "</div>"
      ],
      "text/plain": [
       "                                                 user  \\\n",
       "1982   https://www.instagram.com/sleeper_cellz_of_psg   \n",
       "5178    https://www.instagram.com/__the_lonely_king__   \n",
       "5947          https://www.instagram.com/__a.l.f.r.e.d   \n",
       "6559          https://www.instagram.com/_.deen_rifa._   \n",
       "7433             https://www.instagram.com/ashwin7818   \n",
       "...                                               ...   \n",
       "51858      https://www.instagram.com/pavithra_kumar_t   \n",
       "52309              https://www.instagram.com/kavii.07   \n",
       "52729      https://www.instagram.com/parker_prasath__   \n",
       "53068   https://www.instagram.com/ak__photography0007   \n",
       "53593  https://www.instagram.com/_the_eminent_artist_   \n",
       "\n",
       "                                   profileUrl  \n",
       "1982   https://www.instagram.com/aruntrendzzz  \n",
       "5178   https://www.instagram.com/aruntrendzzz  \n",
       "5947   https://www.instagram.com/aruntrendzzz  \n",
       "6559   https://www.instagram.com/aruntrendzzz  \n",
       "7433   https://www.instagram.com/aruntrendzzz  \n",
       "...                                       ...  \n",
       "51858  https://www.instagram.com/aruntrendzzz  \n",
       "52309  https://www.instagram.com/aruntrendzzz  \n",
       "52729  https://www.instagram.com/aruntrendzzz  \n",
       "53068  https://www.instagram.com/aruntrendzzz  \n",
       "53593  https://www.instagram.com/aruntrendzzz  \n",
       "\n",
       "[72 rows x 2 columns]"
      ]
     },
     "execution_count": 33,
     "metadata": {},
     "output_type": "execute_result"
    }
   ],
   "source": [
    "df[df['profileUrl']=='https://www.instagram.com/aruntrendzzz']"
   ]
  },
  {
   "cell_type": "markdown",
   "metadata": {},
   "source": [
    "# ESTABLISHING BEST FRIENDS NETWORK"
   ]
  },
  {
   "cell_type": "code",
   "execution_count": 67,
   "metadata": {
    "scrolled": true
   },
   "outputs": [
    {
     "data": {
      "text/html": [
       "<div>\n",
       "<style scoped>\n",
       "    .dataframe tbody tr th:only-of-type {\n",
       "        vertical-align: middle;\n",
       "    }\n",
       "\n",
       "    .dataframe tbody tr th {\n",
       "        vertical-align: top;\n",
       "    }\n",
       "\n",
       "    .dataframe thead th {\n",
       "        text-align: right;\n",
       "    }\n",
       "</style>\n",
       "<table border=\"1\" class=\"dataframe\">\n",
       "  <thead>\n",
       "    <tr style=\"text-align: right;\">\n",
       "      <th></th>\n",
       "      <th>user</th>\n",
       "      <th>profileUrl</th>\n",
       "    </tr>\n",
       "  </thead>\n",
       "  <tbody>\n",
       "    <tr>\n",
       "      <th>0</th>\n",
       "      <td>https://www.instagram.com/sleeper_cellz_of_psg</td>\n",
       "      <td>https://www.instagram.com/akil_yadhav</td>\n",
       "    </tr>\n",
       "    <tr>\n",
       "      <th>1</th>\n",
       "      <td>https://www.instagram.com/techy_trolls</td>\n",
       "      <td>https://www.instagram.com/akil_yadhav</td>\n",
       "    </tr>\n",
       "    <tr>\n",
       "      <th>2</th>\n",
       "      <td>https://www.instagram.com/projects_360_</td>\n",
       "      <td>https://www.instagram.com/akil_yadhav</td>\n",
       "    </tr>\n",
       "    <tr>\n",
       "      <th>3</th>\n",
       "      <td>https://www.instagram.com/_.b.k.g._</td>\n",
       "      <td>https://www.instagram.com/akil_yadhav</td>\n",
       "    </tr>\n",
       "    <tr>\n",
       "      <th>4</th>\n",
       "      <td>https://www.instagram.com/ajey729</td>\n",
       "      <td>https://www.instagram.com/akil_yadhav</td>\n",
       "    </tr>\n",
       "    <tr>\n",
       "      <th>...</th>\n",
       "      <td>...</td>\n",
       "      <td>...</td>\n",
       "    </tr>\n",
       "    <tr>\n",
       "      <th>454</th>\n",
       "      <td>https://www.instagram.com/akil_yadhav</td>\n",
       "      <td>https://www.instagram.com/projects_360_</td>\n",
       "    </tr>\n",
       "    <tr>\n",
       "      <th>455</th>\n",
       "      <td>https://www.instagram.com/___sallu___rocky___</td>\n",
       "      <td>https://www.instagram.com/sanjay_sandy3</td>\n",
       "    </tr>\n",
       "    <tr>\n",
       "      <th>456</th>\n",
       "      <td>https://www.instagram.com/a_shibu_musical_offi...</td>\n",
       "      <td>https://www.instagram.com/_pirate_10</td>\n",
       "    </tr>\n",
       "    <tr>\n",
       "      <th>457</th>\n",
       "      <td>https://www.instagram.com/rj_mokshith</td>\n",
       "      <td>https://www.instagram.com/manojh_sivakumar</td>\n",
       "    </tr>\n",
       "    <tr>\n",
       "      <th>458</th>\n",
       "      <td>https://www.instagram.com/parker_prasath__</td>\n",
       "      <td>https://www.instagram.com/kavii.07</td>\n",
       "    </tr>\n",
       "  </tbody>\n",
       "</table>\n",
       "<p>459 rows × 2 columns</p>\n",
       "</div>"
      ],
      "text/plain": [
       "                                                  user  \\\n",
       "0       https://www.instagram.com/sleeper_cellz_of_psg   \n",
       "1               https://www.instagram.com/techy_trolls   \n",
       "2              https://www.instagram.com/projects_360_   \n",
       "3                  https://www.instagram.com/_.b.k.g._   \n",
       "4                    https://www.instagram.com/ajey729   \n",
       "..                                                 ...   \n",
       "454              https://www.instagram.com/akil_yadhav   \n",
       "455      https://www.instagram.com/___sallu___rocky___   \n",
       "456  https://www.instagram.com/a_shibu_musical_offi...   \n",
       "457              https://www.instagram.com/rj_mokshith   \n",
       "458         https://www.instagram.com/parker_prasath__   \n",
       "\n",
       "                                     profileUrl  \n",
       "0         https://www.instagram.com/akil_yadhav  \n",
       "1         https://www.instagram.com/akil_yadhav  \n",
       "2         https://www.instagram.com/akil_yadhav  \n",
       "3         https://www.instagram.com/akil_yadhav  \n",
       "4         https://www.instagram.com/akil_yadhav  \n",
       "..                                          ...  \n",
       "454     https://www.instagram.com/projects_360_  \n",
       "455     https://www.instagram.com/sanjay_sandy3  \n",
       "456        https://www.instagram.com/_pirate_10  \n",
       "457  https://www.instagram.com/manojh_sivakumar  \n",
       "458          https://www.instagram.com/kavii.07  \n",
       "\n",
       "[459 rows x 2 columns]"
      ]
     },
     "execution_count": 67,
     "metadata": {},
     "output_type": "execute_result"
    }
   ],
   "source": [
    "df_filtered_followers = pd.merge(df,df_bf,how = 'inner')\n",
    "df_filtered_followers"
   ]
  },
  {
   "cell_type": "code",
   "execution_count": 68,
   "metadata": {},
   "outputs": [
    {
     "data": {
      "text/plain": [
       "{'https://www.instagram.com/_.deen_rifa._',\n",
       " 'https://www.instagram.com/black_pearl_sri',\n",
       " 'https://www.instagram.com/pavithra_kumar_t',\n",
       " 'https://www.instagram.com/prabu414',\n",
       " 'https://www.instagram.com/sridhar.362'}"
      ]
     },
     "execution_count": 68,
     "metadata": {},
     "output_type": "execute_result"
    }
   ],
   "source": [
    "set(df_bf['profileUrl'])-(set(df_filtered_followers['user'])|set(df_filtered_followers['profileUrl']))"
   ]
  },
  {
   "cell_type": "code",
   "execution_count": 69,
   "metadata": {},
   "outputs": [
    {
     "name": "stdout",
     "output_type": "stream",
     "text": [
      "set()\n",
      "set()\n",
      "set()\n",
      "set()\n",
      "set()\n"
     ]
    }
   ],
   "source": [
    "#This indicates that these 5 nodes have no edges between the best friends of aruntrenzzz -- isolated nodes\n",
    "print(set(df[df['user'] == 'https://www.instagram.com/_.deen_rifa._']['profileUrl'])&set(df_bf['profileUrl']))\n",
    "print(set(df[df['user'] == 'https://www.instagram.com/black_pearl_sri']['profileUrl'])&set(df_bf['profileUrl']))\n",
    "print(set(df[df['user'] == 'https://www.instagram.com/pavithra_kumar_t']['profileUrl'])&set(df_bf['profileUrl']))\n",
    "print(set(df[df['user'] == 'https://www.instagram.com/prabu414']['profileUrl'])&set(df_bf['profileUrl']))\n",
    "print(set(df[df['user'] == 'https://www.instagram.com/sridhar.362']['profileUrl'])&set(df_bf['profileUrl']))\n"
   ]
  },
  {
   "cell_type": "code",
   "execution_count": 70,
   "metadata": {},
   "outputs": [
    {
     "data": {
      "text/html": [
       "<div>\n",
       "<style scoped>\n",
       "    .dataframe tbody tr th:only-of-type {\n",
       "        vertical-align: middle;\n",
       "    }\n",
       "\n",
       "    .dataframe tbody tr th {\n",
       "        vertical-align: top;\n",
       "    }\n",
       "\n",
       "    .dataframe thead th {\n",
       "        text-align: right;\n",
       "    }\n",
       "</style>\n",
       "<table border=\"1\" class=\"dataframe\">\n",
       "  <thead>\n",
       "    <tr style=\"text-align: right;\">\n",
       "      <th></th>\n",
       "      <th>user</th>\n",
       "    </tr>\n",
       "  </thead>\n",
       "  <tbody>\n",
       "    <tr>\n",
       "      <th>0</th>\n",
       "      <td>https://www.instagram.com/_.deen_rifa._</td>\n",
       "    </tr>\n",
       "    <tr>\n",
       "      <th>1</th>\n",
       "      <td>https://www.instagram.com/black_pearl_sri</td>\n",
       "    </tr>\n",
       "    <tr>\n",
       "      <th>2</th>\n",
       "      <td>https://www.instagram.com/pavithra_kumar_t</td>\n",
       "    </tr>\n",
       "    <tr>\n",
       "      <th>3</th>\n",
       "      <td>https://www.instagram.com/prabu414</td>\n",
       "    </tr>\n",
       "    <tr>\n",
       "      <th>4</th>\n",
       "      <td>https://www.instagram.com/sridhar.362</td>\n",
       "    </tr>\n",
       "  </tbody>\n",
       "</table>\n",
       "</div>"
      ],
      "text/plain": [
       "                                         user\n",
       "0     https://www.instagram.com/_.deen_rifa._\n",
       "1   https://www.instagram.com/black_pearl_sri\n",
       "2  https://www.instagram.com/pavithra_kumar_t\n",
       "3          https://www.instagram.com/prabu414\n",
       "4       https://www.instagram.com/sridhar.362"
      ]
     },
     "execution_count": 70,
     "metadata": {},
     "output_type": "execute_result"
    }
   ],
   "source": [
    "#inserting isolated nodes to the dataframe df_filtered_followers\n",
    "df_temp = pd.DataFrame({'user':['https://www.instagram.com/_.deen_rifa._','https://www.instagram.com/black_pearl_sri','https://www.instagram.com/pavithra_kumar_t','https://www.instagram.com/prabu414','https://www.instagram.com/sridhar.362']})\n",
    "df_temp"
   ]
  },
  {
   "cell_type": "code",
   "execution_count": 71,
   "metadata": {},
   "outputs": [
    {
     "data": {
      "text/plain": [
       "(464, 2)"
      ]
     },
     "execution_count": 71,
     "metadata": {},
     "output_type": "execute_result"
    }
   ],
   "source": [
    "df_filtered_followers = df_filtered_followers.append(df_temp,ignore_index=True)\n",
    "df_filtered_followers.shape"
   ]
  },
  {
   "cell_type": "code",
   "execution_count": 80,
   "metadata": {},
   "outputs": [
    {
     "data": {
      "text/plain": [
       "73"
      ]
     },
     "execution_count": 80,
     "metadata": {},
     "output_type": "execute_result"
    }
   ],
   "source": [
    "len(set(df_filtered_followers['user'])|set(df_filtered_followers['profileUrl']))"
   ]
  },
  {
   "cell_type": "code",
   "execution_count": 72,
   "metadata": {},
   "outputs": [],
   "source": [
    "df_filtered_followers.to_csv('datasets/bestfriendsgraph-following.csv',header = False, index = False)"
   ]
  },
  {
   "cell_type": "code",
   "execution_count": null,
   "metadata": {},
   "outputs": [],
   "source": []
  }
 ],
 "metadata": {
  "kernelspec": {
   "display_name": "Python 3",
   "language": "python",
   "name": "python3"
  },
  "language_info": {
   "codemirror_mode": {
    "name": "ipython",
    "version": 3
   },
   "file_extension": ".py",
   "mimetype": "text/x-python",
   "name": "python",
   "nbconvert_exporter": "python",
   "pygments_lexer": "ipython3",
   "version": "3.8.5"
  }
 },
 "nbformat": 4,
 "nbformat_minor": 4
}
